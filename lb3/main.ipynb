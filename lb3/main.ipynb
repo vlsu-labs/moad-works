{
 "cells": [
  {
   "cell_type": "code",
   "execution_count": 95,
   "metadata": {},
   "outputs": [],
   "source": [
    "import pandas as pd\n",
    "import numpy as np\n",
    "from typing import List, Tuple\n",
    "from sklearn.linear_model import LinearRegression\n",
    "from sklearn.ensemble import GradientBoostingRegressor\n",
    "from sklearn.base import RegressorMixin\n",
    "import pickle\n",
    "\n",
    "LEAR_DATA_FILE = 'learn_data.csv'\n",
    "MODEL_STATE_PATH = 'model.pkl'\n",
    "\n",
    "FEATURE = ['size', 'ed_count']\n",
    "Y = 'bug_count'"
   ]
  },
  {
   "cell_type": "markdown",
   "metadata": {},
   "source": [
    "# Build learn data\n",
    "\n",
    "вариант №2"
   ]
  },
  {
   "cell_type": "code",
   "execution_count": 97,
   "metadata": {},
   "outputs": [
    {
     "data": {
      "text/html": [
       "<div>\n",
       "<style scoped>\n",
       "    .dataframe tbody tr th:only-of-type {\n",
       "        vertical-align: middle;\n",
       "    }\n",
       "\n",
       "    .dataframe tbody tr th {\n",
       "        vertical-align: top;\n",
       "    }\n",
       "\n",
       "    .dataframe thead th {\n",
       "        text-align: right;\n",
       "    }\n",
       "</style>\n",
       "<table border=\"1\" class=\"dataframe\">\n",
       "  <thead>\n",
       "    <tr style=\"text-align: right;\">\n",
       "      <th></th>\n",
       "      <th>index</th>\n",
       "      <th>Размер кода (строк)</th>\n",
       "      <th>Изменений в коде (раз)</th>\n",
       "      <th>Найдено багов (шт)</th>\n",
       "    </tr>\n",
       "  </thead>\n",
       "  <tbody>\n",
       "    <tr>\n",
       "      <th>0</th>\n",
       "      <td>0</td>\n",
       "      <td>500</td>\n",
       "      <td>2</td>\n",
       "      <td>3</td>\n",
       "    </tr>\n",
       "    <tr>\n",
       "      <th>1</th>\n",
       "      <td>1</td>\n",
       "      <td>1500</td>\n",
       "      <td>5</td>\n",
       "      <td>10</td>\n",
       "    </tr>\n",
       "    <tr>\n",
       "      <th>2</th>\n",
       "      <td>2</td>\n",
       "      <td>700</td>\n",
       "      <td>1</td>\n",
       "      <td>2</td>\n",
       "    </tr>\n",
       "    <tr>\n",
       "      <th>3</th>\n",
       "      <td>3</td>\n",
       "      <td>2000</td>\n",
       "      <td>6</td>\n",
       "      <td>12</td>\n",
       "    </tr>\n",
       "    <tr>\n",
       "      <th>4</th>\n",
       "      <td>4</td>\n",
       "      <td>1000</td>\n",
       "      <td>3</td>\n",
       "      <td>5</td>\n",
       "    </tr>\n",
       "  </tbody>\n",
       "</table>\n",
       "</div>"
      ],
      "text/plain": [
       "   index  Размер кода (строк)   Изменений в коде (раз)  Найдено багов (шт)\n",
       "0      0                   500                       2                   3\n",
       "1      1                  1500                       5                  10\n",
       "2      2                   700                       1                   2\n",
       "3      3                  2000                       6                  12\n",
       "4      4                  1000                       3                   5"
      ]
     },
     "execution_count": 97,
     "metadata": {},
     "output_type": "execute_result"
    }
   ],
   "source": [
    "name_mapping = {\n",
    "    'size': 'Размер кода (строк) ',\n",
    "    'ed_count': 'Изменений в коде (раз)',\n",
    "    'bug_count': 'Найдено багов (шт)',\n",
    "    f'{Y}_pred': 'Предсказание',\n",
    "}\n",
    "\n",
    "def with_read_cols(data: pd.DataFrame):\n",
    "    data = data.copy().rename(columns=name_mapping)\n",
    "\n",
    "    return data\n",
    "\n",
    "\n",
    "data = [\n",
    "    {'index': 0, 'size': 500, 'ed_count': 2, 'bug_count': 3},\n",
    "    {'index': 1, 'size': 1500, 'ed_count': 5, 'bug_count': 10},\n",
    "    {'index': 2, 'size': 700, 'ed_count': 1, 'bug_count': 2},\n",
    "    {'index': 3, 'size': 2000, 'ed_count': 6, 'bug_count': 12},\n",
    "    {'index': 4, 'size': 1000, 'ed_count': 3, 'bug_count': 5},\n",
    "]\n",
    "\n",
    "df = pd.DataFrame.from_records(data)\n",
    "df.set_index('index')\n",
    "df.to_csv(LEAR_DATA_FILE, index=False)\n",
    "with_read_cols(df)"
   ]
  },
  {
   "cell_type": "markdown",
   "metadata": {},
   "source": [
    "## Load learn data"
   ]
  },
  {
   "cell_type": "code",
   "execution_count": 98,
   "metadata": {},
   "outputs": [
    {
     "data": {
      "text/html": [
       "<div>\n",
       "<style scoped>\n",
       "    .dataframe tbody tr th:only-of-type {\n",
       "        vertical-align: middle;\n",
       "    }\n",
       "\n",
       "    .dataframe tbody tr th {\n",
       "        vertical-align: top;\n",
       "    }\n",
       "\n",
       "    .dataframe thead th {\n",
       "        text-align: right;\n",
       "    }\n",
       "</style>\n",
       "<table border=\"1\" class=\"dataframe\">\n",
       "  <thead>\n",
       "    <tr style=\"text-align: right;\">\n",
       "      <th></th>\n",
       "      <th>index</th>\n",
       "      <th>Размер кода (строк)</th>\n",
       "      <th>Изменений в коде (раз)</th>\n",
       "      <th>Найдено багов (шт)</th>\n",
       "    </tr>\n",
       "  </thead>\n",
       "  <tbody>\n",
       "    <tr>\n",
       "      <th>0</th>\n",
       "      <td>0</td>\n",
       "      <td>500</td>\n",
       "      <td>2</td>\n",
       "      <td>3</td>\n",
       "    </tr>\n",
       "    <tr>\n",
       "      <th>1</th>\n",
       "      <td>1</td>\n",
       "      <td>1500</td>\n",
       "      <td>5</td>\n",
       "      <td>10</td>\n",
       "    </tr>\n",
       "    <tr>\n",
       "      <th>2</th>\n",
       "      <td>2</td>\n",
       "      <td>700</td>\n",
       "      <td>1</td>\n",
       "      <td>2</td>\n",
       "    </tr>\n",
       "    <tr>\n",
       "      <th>3</th>\n",
       "      <td>3</td>\n",
       "      <td>2000</td>\n",
       "      <td>6</td>\n",
       "      <td>12</td>\n",
       "    </tr>\n",
       "    <tr>\n",
       "      <th>4</th>\n",
       "      <td>4</td>\n",
       "      <td>1000</td>\n",
       "      <td>3</td>\n",
       "      <td>5</td>\n",
       "    </tr>\n",
       "  </tbody>\n",
       "</table>\n",
       "</div>"
      ],
      "text/plain": [
       "   index  Размер кода (строк)   Изменений в коде (раз)  Найдено багов (шт)\n",
       "0      0                   500                       2                   3\n",
       "1      1                  1500                       5                  10\n",
       "2      2                   700                       1                   2\n",
       "3      3                  2000                       6                  12\n",
       "4      4                  1000                       3                   5"
      ]
     },
     "execution_count": 98,
     "metadata": {},
     "output_type": "execute_result"
    }
   ],
   "source": [
    "learn_df = pd.read_csv(LEAR_DATA_FILE)\n",
    "learn_df.set_index('index')\n",
    "with_read_cols(learn_df)"
   ]
  },
  {
   "cell_type": "markdown",
   "metadata": {},
   "source": [
    "## Visualize data dep"
   ]
  },
  {
   "cell_type": "code",
   "execution_count": 99,
   "metadata": {},
   "outputs": [
    {
     "data": {
      "image/png": "[encoded data removed]",
      "text/plain": [
       "<Figure size 1000x1000 with 2 Axes>"
      ]
     },
     "metadata": {},
     "output_type": "display_data"
    }
   ],
   "source": [
    "from matplotlib import pyplot as plt\n",
    "from matplotlib.pyplot import subplots_adjust\n",
    "\n",
    "def get_values_xy_for(feature: str) -> List[Tuple[int, int]]:\n",
    "    result = []\n",
    "    # print(learn_df.sort_values(feature, axis=0)[feature])\n",
    "    for _, row in learn_df.sort_values(Y, axis=0).iterrows():\n",
    "        x = row[feature]\n",
    "        y = row[Y]\n",
    "\n",
    "        result.append((x, y))\n",
    "\n",
    "    return result\n",
    "\n",
    "fig = plt.figure(num=1, facecolor='w', edgecolor='k')\n",
    "fig.set_figwidth(10)\n",
    "fig.set_figheight(10)\n",
    "subplots_adjust(hspace=0.3, wspace=0.3)\n",
    "\n",
    "\n",
    "for index, feature in enumerate(FEATURE):\n",
    "    data = get_values_xy_for(feature=feature)\n",
    "    yy = list(map(lambda x: x[0], data))\n",
    "    xx = list(map(lambda x: x[1], data))\n",
    "\n",
    "    ax = fig.add_subplot(2, 2, index + 1)\n",
    "    ax.plot(xx, yy, color='red', label=f'a1', linestyle='solid', marker='o')\n",
    "    ax.set_title(f'Plot for {feature}')\n",
    "    ax.set_ylabel(f'{feature}')\n",
    "    ax.set_xlabel('Y')\n",
    "    ax.grid()\n",
    "    ax.legend()\n",
    "\n",
    "plt.show()\n",
    "\n"
   ]
  },
  {
   "cell_type": "markdown",
   "metadata": {},
   "source": [
    "## Learn regr boost ans model"
   ]
  },
  {
   "cell_type": "code",
   "execution_count": 103,
   "metadata": {},
   "outputs": [
    {
     "name": "stdout",
     "output_type": "stream",
     "text": [
      "Model score: 0.9985045454932765\n",
      "Mean square error: 0.023089817583810096\n"
     ]
    }
   ],
   "source": [
    "from sklearn.metrics import mean_squared_error\n",
    "\n",
    "test_df = learn_df.copy()\n",
    "\n",
    "X = learn_df[FEATURE]\n",
    "y = learn_df[Y]\n",
    "\n",
    "model = GradientBoostingRegressor(\n",
    "    loss='squared_error',\n",
    "    learning_rate=0.01,\n",
    "    n_estimators=500,\n",
    "    criterion='friedman_mse',\n",
    "    max_depth=5,\n",
    "    min_samples_split=5,\n",
    ")\n",
    "\n",
    "model.fit(X, y)\n",
    "\n",
    "print(f\"Model score: {model.score(X, y)}\")\n",
    "\n",
    "model_predict = model.predict(test_df[FEATURE])\n",
    "print(f\"Mean square error: {mean_squared_error(test_df[Y], model_predict)}\")\n",
    "\n",
    "with open(MODEL_STATE_PATH,'wb') as file:\n",
    "    pickle.dump(model, file)"
   ]
  },
  {
   "cell_type": "markdown",
   "metadata": {},
   "source": [
    "## Learn linear model"
   ]
  },
  {
   "cell_type": "code",
   "execution_count": 100,
   "metadata": {},
   "outputs": [
    {
     "name": "stdout",
     "output_type": "stream",
     "text": [
      "Model score: 0.9938591441182115\n",
      "Model coef: [0.00195062 1.55802469]\n",
      "Model base: -1.1209876543209853\n",
      "Mean square error: 0.09481481481481474\n"
     ]
    }
   ],
   "source": [
    "from sklearn.metrics import mean_squared_error\n",
    "\n",
    "test_df = learn_df.copy()\n",
    "\n",
    "X = learn_df[FEATURE]\n",
    "y = learn_df[Y]\n",
    "\n",
    "model = LinearRegression(\n",
    "    copy_X=True,\n",
    ")\n",
    "\n",
    "model.fit(X, y)\n",
    "\n",
    "print(f\"Model score: {model.score(X, y)}\")\n",
    "print(f\"Model coef: {model.coef_}\")\n",
    "print(f\"Model base: {model.intercept_}\")\n",
    "\n",
    "model_predict = model.predict(test_df[FEATURE])\n",
    "print(f\"Mean square error: {mean_squared_error(test_df[Y], model_predict)}\")\n",
    "\n",
    "with open(MODEL_STATE_PATH,'wb') as file:\n",
    "    pickle.dump(model, file)"
   ]
  },
  {
   "cell_type": "markdown",
   "metadata": {},
   "source": [
    "## Test model"
   ]
  },
  {
   "cell_type": "code",
   "execution_count": null,
   "metadata": {},
   "outputs": [
    {
     "data": {
      "text/html": [
       "<div>\n",
       "<style scoped>\n",
       "    .dataframe tbody tr th:only-of-type {\n",
       "        vertical-align: middle;\n",
       "    }\n",
       "\n",
       "    .dataframe tbody tr th {\n",
       "        vertical-align: top;\n",
       "    }\n",
       "\n",
       "    .dataframe thead th {\n",
       "        text-align: right;\n",
       "    }\n",
       "</style>\n",
       "<table border=\"1\" class=\"dataframe\">\n",
       "  <thead>\n",
       "    <tr style=\"text-align: right;\">\n",
       "      <th></th>\n",
       "      <th>index</th>\n",
       "      <th>Размер кода (строк)</th>\n",
       "      <th>Изменений в коде (раз)</th>\n",
       "      <th>Найдено багов (шт)</th>\n",
       "      <th>Предсказание</th>\n",
       "    </tr>\n",
       "  </thead>\n",
       "  <tbody>\n",
       "    <tr>\n",
       "      <th>0</th>\n",
       "      <td>0</td>\n",
       "      <td>500</td>\n",
       "      <td>2</td>\n",
       "      <td>3</td>\n",
       "      <td>2.970370</td>\n",
       "    </tr>\n",
       "    <tr>\n",
       "      <th>1</th>\n",
       "      <td>1</td>\n",
       "      <td>1500</td>\n",
       "      <td>5</td>\n",
       "      <td>10</td>\n",
       "      <td>9.595062</td>\n",
       "    </tr>\n",
       "    <tr>\n",
       "      <th>2</th>\n",
       "      <td>2</td>\n",
       "      <td>700</td>\n",
       "      <td>1</td>\n",
       "      <td>2</td>\n",
       "      <td>1.802469</td>\n",
       "    </tr>\n",
       "    <tr>\n",
       "      <th>3</th>\n",
       "      <td>3</td>\n",
       "      <td>2000</td>\n",
       "      <td>6</td>\n",
       "      <td>12</td>\n",
       "      <td>12.128395</td>\n",
       "    </tr>\n",
       "    <tr>\n",
       "      <th>4</th>\n",
       "      <td>4</td>\n",
       "      <td>1000</td>\n",
       "      <td>3</td>\n",
       "      <td>5</td>\n",
       "      <td>5.503704</td>\n",
       "    </tr>\n",
       "  </tbody>\n",
       "</table>\n",
       "</div>"
      ],
      "text/plain": [
       "   index  Размер кода (строк)   Изменений в коде (раз)  Найдено багов (шт)  \\\n",
       "0      0                   500                       2                   3   \n",
       "1      1                  1500                       5                  10   \n",
       "2      2                   700                       1                   2   \n",
       "3      3                  2000                       6                  12   \n",
       "4      4                  1000                       3                   5   \n",
       "\n",
       "   Предсказание  \n",
       "0      2.970370  \n",
       "1      9.595062  \n",
       "2      1.802469  \n",
       "3     12.128395  \n",
       "4      5.503704  "
      ]
     },
     "execution_count": 102,
     "metadata": {},
     "output_type": "execute_result"
    },
    {
     "data": {
      "image/png": "[encoded data removed]",
      "text/plain": [
       "<Figure size 1000x1000 with 1 Axes>"
      ]
     },
     "metadata": {},
     "output_type": "display_data"
    }
   ],
   "source": [
    "from matplotlib import pyplot as plt\n",
    "from matplotlib.pyplot import subplots_adjust\n",
    "\n",
    "Model = GradientBoostingRegressor\n",
    "\n",
    "work_df = learn_df.copy()\n",
    "\n",
    "with open(MODEL_STATE_PATH, 'rb') as f:\n",
    "    model: Model = pickle.load(f)\n",
    "\n",
    "\n",
    "predictions = model.predict(work_df[FEATURE])\n",
    "\n",
    "show_df = work_df.copy()\n",
    "show_df[f\"{Y}_pred\"] = predictions\n",
    "\n",
    "fig = plt.figure(num=1, facecolor='w', edgecolor='k')\n",
    "fig.set_figwidth(10)\n",
    "fig.set_figheight(10)\n",
    "\n",
    "x = list(show_df.index)\n",
    "y1 = show_df[Y]\n",
    "y2 = show_df[f\"{Y}_pred\"]\n",
    "\n",
    "ax = fig.add_subplot(2, 2, 1)\n",
    "ax.plot(x, y1, color='green', label=f'real', marker='o', linestyle='-')\n",
    "ax.plot(x, y2, color='red', label=f'pred', marker='o', linestyle='-')\n",
    "\n",
    "ax.set_title(f'Compare predictions of {Model.__name__}')\n",
    "ax.set_xlabel('index')\n",
    "ax.set_ylabel(f'{Y}')\n",
    "ax.grid()\n",
    "ax.legend()\n",
    "with_read_cols(show_df)\n"
   ]
  }
 ],
 "metadata": {
  "kernelspec": {
   "display_name": "moad-works-LfLR8WmN",
   "language": "python",
   "name": "python3"
  },
  "language_info": {
   "codemirror_mode": {
    "name": "ipython",
    "version": 3
   },
   "file_extension": ".py",
   "mimetype": "text/x-python",
   "name": "python",
   "nbconvert_exporter": "python",
   "pygments_lexer": "ipython3",
   "version": "3.11.8"
  }
 },
 "nbformat": 4,
 "nbformat_minor": 2
}
