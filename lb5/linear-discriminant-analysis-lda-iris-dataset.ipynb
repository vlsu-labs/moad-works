{
 "cells": [
  {
   "cell_type": "markdown",
   "id": "recorded-coordinator",
   "metadata": {
    "papermill": {
     "duration": 0.011646,
     "end_time": "2021-06-14T11:34:58.280624",
     "exception": false,
     "start_time": "2021-06-14T11:34:58.268978",
     "status": "completed"
    },
    "tags": []
   },
   "source": [
    "# Linear Discriminant Analysis\n",
    "\n",
    "We are going to implement LDA using the iris dataset. We can get the dataset from scikit-learn package. Iris is a three class dataset."
   ]
  },
  {
   "cell_type": "code",
   "execution_count": 9,
   "id": "planned-circulation",
   "metadata": {
    "execution": {
     "iopub.execute_input": "2021-06-14T11:34:58.308883Z",
     "iopub.status.busy": "2021-06-14T11:34:58.308263Z",
     "iopub.status.idle": "2021-06-14T11:34:59.513459Z",
     "shell.execute_reply": "2021-06-14T11:34:59.512773Z",
     "shell.execute_reply.started": "2021-06-14T11:28:08.057096Z"
    },
    "papermill": {
     "duration": 1.222337,
     "end_time": "2021-06-14T11:34:59.513621",
     "exception": false,
     "start_time": "2021-06-14T11:34:58.291284",
     "status": "completed"
    },
    "tags": []
   },
   "outputs": [],
   "source": [
    "# importing required packages\n",
    "import pandas as pd\n",
    "import numpy as np\n",
    "from sklearn.model_selection import train_test_split, RepeatedStratifiedKFold, cross_val_score\n",
    "from sklearn.discriminant_analysis import LinearDiscriminantAnalysis \n",
    "from sklearn import datasets\n",
    "import matplotlib.pyplot as plt\n",
    "%matplotlib inline"
   ]
  },
  {
   "cell_type": "code",
   "execution_count": 10,
   "id": "basic-jacob",
   "metadata": {
    "execution": {
     "iopub.execute_input": "2021-06-14T11:34:59.539141Z",
     "iopub.status.busy": "2021-06-14T11:34:59.538423Z",
     "iopub.status.idle": "2021-06-14T11:34:59.545957Z",
     "shell.execute_reply": "2021-06-14T11:34:59.546514Z",
     "shell.execute_reply.started": "2021-06-14T11:28:08.072478Z"
    },
    "papermill": {
     "duration": 0.022475,
     "end_time": "2021-06-14T11:34:59.546704",
     "exception": false,
     "start_time": "2021-06-14T11:34:59.524229",
     "status": "completed"
    },
    "tags": []
   },
   "outputs": [],
   "source": [
    "# load iris dataset\n",
    "iris=datasets.load_iris()"
   ]
  },
  {
   "cell_type": "code",
   "execution_count": 11,
   "id": "plain-tourism",
   "metadata": {
    "execution": {
     "iopub.execute_input": "2021-06-14T11:34:59.587432Z",
     "iopub.status.busy": "2021-06-14T11:34:59.586725Z",
     "iopub.status.idle": "2021-06-14T11:34:59.590155Z",
     "shell.execute_reply": "2021-06-14T11:34:59.589603Z",
     "shell.execute_reply.started": "2021-06-14T11:28:08.094413Z"
    },
    "papermill": {
     "duration": 0.031717,
     "end_time": "2021-06-14T11:34:59.590293",
     "exception": false,
     "start_time": "2021-06-14T11:34:59.558576",
     "status": "completed"
    },
    "tags": []
   },
   "outputs": [],
   "source": [
    "# convert dataset into a pandas dataframe\n",
    "df = pd.DataFrame(data = np.c_[iris['data'], iris['target']],\n",
    "                 columns = iris['feature_names'] + ['target'])\n",
    "df['species'] = pd.Categorical.from_codes(iris.target, iris.target_names)\n",
    "df.columns = ['s_length', 's_width', 'p_length', 'p_width', 'target', 'species']\n"
   ]
  },
  {
   "cell_type": "code",
   "execution_count": 12,
   "id": "married-authorization",
   "metadata": {
    "execution": {
     "iopub.execute_input": "2021-06-14T11:34:59.614893Z",
     "iopub.status.busy": "2021-06-14T11:34:59.613910Z",
     "iopub.status.idle": "2021-06-14T11:34:59.642961Z",
     "shell.execute_reply": "2021-06-14T11:34:59.642361Z",
     "shell.execute_reply.started": "2021-06-14T11:28:08.113153Z"
    },
    "papermill": {
     "duration": 0.042252,
     "end_time": "2021-06-14T11:34:59.643113",
     "exception": false,
     "start_time": "2021-06-14T11:34:59.600861",
     "status": "completed"
    },
    "tags": []
   },
   "outputs": [
    {
     "data": {
      "text/html": [
       "<div>\n",
       "<style scoped>\n",
       "    .dataframe tbody tr th:only-of-type {\n",
       "        vertical-align: middle;\n",
       "    }\n",
       "\n",
       "    .dataframe tbody tr th {\n",
       "        vertical-align: top;\n",
       "    }\n",
       "\n",
       "    .dataframe thead th {\n",
       "        text-align: right;\n",
       "    }\n",
       "</style>\n",
       "<table border=\"1\" class=\"dataframe\">\n",
       "  <thead>\n",
       "    <tr style=\"text-align: right;\">\n",
       "      <th></th>\n",
       "      <th>s_length</th>\n",
       "      <th>s_width</th>\n",
       "      <th>p_length</th>\n",
       "      <th>p_width</th>\n",
       "      <th>target</th>\n",
       "      <th>species</th>\n",
       "    </tr>\n",
       "  </thead>\n",
       "  <tbody>\n",
       "    <tr>\n",
       "      <th>0</th>\n",
       "      <td>5.1</td>\n",
       "      <td>3.5</td>\n",
       "      <td>1.4</td>\n",
       "      <td>0.2</td>\n",
       "      <td>0.0</td>\n",
       "      <td>setosa</td>\n",
       "    </tr>\n",
       "    <tr>\n",
       "      <th>1</th>\n",
       "      <td>4.9</td>\n",
       "      <td>3.0</td>\n",
       "      <td>1.4</td>\n",
       "      <td>0.2</td>\n",
       "      <td>0.0</td>\n",
       "      <td>setosa</td>\n",
       "    </tr>\n",
       "    <tr>\n",
       "      <th>2</th>\n",
       "      <td>4.7</td>\n",
       "      <td>3.2</td>\n",
       "      <td>1.3</td>\n",
       "      <td>0.2</td>\n",
       "      <td>0.0</td>\n",
       "      <td>setosa</td>\n",
       "    </tr>\n",
       "    <tr>\n",
       "      <th>3</th>\n",
       "      <td>4.6</td>\n",
       "      <td>3.1</td>\n",
       "      <td>1.5</td>\n",
       "      <td>0.2</td>\n",
       "      <td>0.0</td>\n",
       "      <td>setosa</td>\n",
       "    </tr>\n",
       "    <tr>\n",
       "      <th>4</th>\n",
       "      <td>5.0</td>\n",
       "      <td>3.6</td>\n",
       "      <td>1.4</td>\n",
       "      <td>0.2</td>\n",
       "      <td>0.0</td>\n",
       "      <td>setosa</td>\n",
       "    </tr>\n",
       "  </tbody>\n",
       "</table>\n",
       "</div>"
      ],
      "text/plain": [
       "   s_length  s_width  p_length  p_width  target species\n",
       "0       5.1      3.5       1.4      0.2     0.0  setosa\n",
       "1       4.9      3.0       1.4      0.2     0.0  setosa\n",
       "2       4.7      3.2       1.3      0.2     0.0  setosa\n",
       "3       4.6      3.1       1.5      0.2     0.0  setosa\n",
       "4       5.0      3.6       1.4      0.2     0.0  setosa"
      ]
     },
     "execution_count": 12,
     "metadata": {},
     "output_type": "execute_result"
    }
   ],
   "source": [
    "df.head()"
   ]
  },
  {
   "cell_type": "markdown",
   "id": "still-armstrong",
   "metadata": {
    "papermill": {
     "duration": 0.010457,
     "end_time": "2021-06-14T11:34:59.664803",
     "exception": false,
     "start_time": "2021-06-14T11:34:59.654346",
     "status": "completed"
    },
    "tags": []
   },
   "source": [
    "### We’ll build a linear discriminant analysis model to classify which species a given flower belongs to.\n",
    " We’ll use the following predictor variables in the model:\n",
    "\n",
    "    Sepal length\n",
    "    Sepal width\n",
    "    Petal length\n",
    "    Petal width\n",
    "    \n",
    "And we’ll use them to predict the response variable Species, which takes on the following three potential classes:\n",
    "\n",
    "    setosa\n",
    "    versicolor\n",
    "    virginica"
   ]
  },
  {
   "cell_type": "code",
   "execution_count": 13,
   "id": "premier-custom",
   "metadata": {
    "execution": {
     "iopub.execute_input": "2021-06-14T11:34:59.697783Z",
     "iopub.status.busy": "2021-06-14T11:34:59.697083Z",
     "iopub.status.idle": "2021-06-14T11:34:59.719769Z",
     "shell.execute_reply": "2021-06-14T11:34:59.719090Z",
     "shell.execute_reply.started": "2021-06-14T11:28:08.142135Z"
    },
    "papermill": {
     "duration": 0.044352,
     "end_time": "2021-06-14T11:34:59.719918",
     "exception": false,
     "start_time": "2021-06-14T11:34:59.675566",
     "status": "completed"
    },
    "tags": []
   },
   "outputs": [
    {
     "data": {
      "text/html": [
       "<style>#sk-container-id-2 {color: black;}#sk-container-id-2 pre{padding: 0;}#sk-container-id-2 div.sk-toggleable {background-color: white;}#sk-container-id-2 label.sk-toggleable__label {cursor: pointer;display: block;width: 100%;margin-bottom: 0;padding: 0.3em;box-sizing: border-box;text-align: center;}#sk-container-id-2 label.sk-toggleable__label-arrow:before {content: \"▸\";float: left;margin-right: 0.25em;color: #696969;}#sk-container-id-2 label.sk-toggleable__label-arrow:hover:before {color: black;}#sk-container-id-2 div.sk-estimator:hover label.sk-toggleable__label-arrow:before {color: black;}#sk-container-id-2 div.sk-toggleable__content {max-height: 0;max-width: 0;overflow: hidden;text-align: left;background-color: #f0f8ff;}#sk-container-id-2 div.sk-toggleable__content pre {margin: 0.2em;color: black;border-radius: 0.25em;background-color: #f0f8ff;}#sk-container-id-2 input.sk-toggleable__control:checked~div.sk-toggleable__content {max-height: 200px;max-width: 100%;overflow: auto;}#sk-container-id-2 input.sk-toggleable__control:checked~label.sk-toggleable__label-arrow:before {content: \"▾\";}#sk-container-id-2 div.sk-estimator input.sk-toggleable__control:checked~label.sk-toggleable__label {background-color: #d4ebff;}#sk-container-id-2 div.sk-label input.sk-toggleable__control:checked~label.sk-toggleable__label {background-color: #d4ebff;}#sk-container-id-2 input.sk-hidden--visually {border: 0;clip: rect(1px 1px 1px 1px);clip: rect(1px, 1px, 1px, 1px);height: 1px;margin: -1px;overflow: hidden;padding: 0;position: absolute;width: 1px;}#sk-container-id-2 div.sk-estimator {font-family: monospace;background-color: #f0f8ff;border: 1px dotted black;border-radius: 0.25em;box-sizing: border-box;margin-bottom: 0.5em;}#sk-container-id-2 div.sk-estimator:hover {background-color: #d4ebff;}#sk-container-id-2 div.sk-parallel-item::after {content: \"\";width: 100%;border-bottom: 1px solid gray;flex-grow: 1;}#sk-container-id-2 div.sk-label:hover label.sk-toggleable__label {background-color: #d4ebff;}#sk-container-id-2 div.sk-serial::before {content: \"\";position: absolute;border-left: 1px solid gray;box-sizing: border-box;top: 0;bottom: 0;left: 50%;z-index: 0;}#sk-container-id-2 div.sk-serial {display: flex;flex-direction: column;align-items: center;background-color: white;padding-right: 0.2em;padding-left: 0.2em;position: relative;}#sk-container-id-2 div.sk-item {position: relative;z-index: 1;}#sk-container-id-2 div.sk-parallel {display: flex;align-items: stretch;justify-content: center;background-color: white;position: relative;}#sk-container-id-2 div.sk-item::before, #sk-container-id-2 div.sk-parallel-item::before {content: \"\";position: absolute;border-left: 1px solid gray;box-sizing: border-box;top: 0;bottom: 0;left: 50%;z-index: -1;}#sk-container-id-2 div.sk-parallel-item {display: flex;flex-direction: column;z-index: 1;position: relative;background-color: white;}#sk-container-id-2 div.sk-parallel-item:first-child::after {align-self: flex-end;width: 50%;}#sk-container-id-2 div.sk-parallel-item:last-child::after {align-self: flex-start;width: 50%;}#sk-container-id-2 div.sk-parallel-item:only-child::after {width: 0;}#sk-container-id-2 div.sk-dashed-wrapped {border: 1px dashed gray;margin: 0 0.4em 0.5em 0.4em;box-sizing: border-box;padding-bottom: 0.4em;background-color: white;}#sk-container-id-2 div.sk-label label {font-family: monospace;font-weight: bold;display: inline-block;line-height: 1.2em;}#sk-container-id-2 div.sk-label-container {text-align: center;}#sk-container-id-2 div.sk-container {/* jupyter's `normalize.less` sets `[hidden] { display: none; }` but bootstrap.min.css set `[hidden] { display: none !important; }` so we also need the `!important` here to be able to override the default hidden behavior on the sphinx rendered scikit-learn.org. See: https://github.com/scikit-learn/scikit-learn/issues/21755 */display: inline-block !important;position: relative;}#sk-container-id-2 div.sk-text-repr-fallback {display: none;}</style><div id=\"sk-container-id-2\" class=\"sk-top-container\"><div class=\"sk-text-repr-fallback\"><pre>LinearDiscriminantAnalysis()</pre><b>In a Jupyter environment, please rerun this cell to show the HTML representation or trust the notebook. <br />On GitHub, the HTML representation is unable to render, please try loading this page with nbviewer.org.</b></div><div class=\"sk-container\" hidden><div class=\"sk-item\"><div class=\"sk-estimator sk-toggleable\"><input class=\"sk-toggleable__control sk-hidden--visually\" id=\"sk-estimator-id-2\" type=\"checkbox\" checked><label for=\"sk-estimator-id-2\" class=\"sk-toggleable__label sk-toggleable__label-arrow\">LinearDiscriminantAnalysis</label><div class=\"sk-toggleable__content\"><pre>LinearDiscriminantAnalysis()</pre></div></div></div></div></div>"
      ],
      "text/plain": [
       "LinearDiscriminantAnalysis()"
      ]
     },
     "execution_count": 13,
     "metadata": {},
     "output_type": "execute_result"
    }
   ],
   "source": [
    "# fitting the model\n",
    "X = df[['s_length', 's_width', 'p_length', 'p_width']]\n",
    "y = df['species']\n",
    "\n",
    "model = LinearDiscriminantAnalysis()\n",
    "model.fit(X, y)"
   ]
  },
  {
   "cell_type": "code",
   "execution_count": 14,
   "id": "auburn-nickel",
   "metadata": {
    "execution": {
     "iopub.execute_input": "2021-06-14T11:34:59.749015Z",
     "iopub.status.busy": "2021-06-14T11:34:59.748332Z",
     "iopub.status.idle": "2021-06-14T11:35:02.043216Z",
     "shell.execute_reply": "2021-06-14T11:35:02.043965Z",
     "shell.execute_reply.started": "2021-06-14T11:28:08.192847Z"
    },
    "papermill": {
     "duration": 2.312811,
     "end_time": "2021-06-14T11:35:02.044178",
     "exception": false,
     "start_time": "2021-06-14T11:34:59.731367",
     "status": "completed"
    },
    "tags": []
   },
   "outputs": [
    {
     "name": "stdout",
     "output_type": "stream",
     "text": [
      "0.9800000000000001\n"
     ]
    }
   ],
   "source": [
    "# evaluating the model\n",
    "cv = RepeatedStratifiedKFold(n_splits=10, n_repeats=3, random_state=1)\n",
    "scores = cross_val_score(model, X, y, scoring='accuracy', cv=cv, n_jobs=-1)\n",
    "print(np.mean(scores))"
   ]
  },
  {
   "cell_type": "markdown",
   "id": "stock-allocation",
   "metadata": {
    "papermill": {
     "duration": 0.011262,
     "end_time": "2021-06-14T11:35:02.071748",
     "exception": false,
     "start_time": "2021-06-14T11:35:02.060486",
     "status": "completed"
    },
    "tags": []
   },
   "source": [
    "### Visualize the results"
   ]
  },
  {
   "cell_type": "code",
   "execution_count": 15,
   "id": "touched-basement",
   "metadata": {
    "execution": {
     "iopub.execute_input": "2021-06-14T11:35:02.105297Z",
     "iopub.status.busy": "2021-06-14T11:35:02.104606Z",
     "iopub.status.idle": "2021-06-14T11:35:02.402391Z",
     "shell.execute_reply": "2021-06-14T11:35:02.402853Z",
     "shell.execute_reply.started": "2021-06-14T11:28:10.672045Z"
    },
    "papermill": {
     "duration": 0.318358,
     "end_time": "2021-06-14T11:35:02.403049",
     "exception": false,
     "start_time": "2021-06-14T11:35:02.084691",
     "status": "completed"
    },
    "tags": []
   },
   "outputs": [
    {
     "data": {
      "image/png": "[encoded data removed]",
      "text/plain": [
       "<Figure size 640x480 with 1 Axes>"
      ]
     },
     "metadata": {},
     "output_type": "display_data"
    }
   ],
   "source": [
    "X = iris.data\n",
    "y = iris.target\n",
    "model = LinearDiscriminantAnalysis()\n",
    "data_plot = model.fit(X, y).transform(X)\n",
    "target_names = iris.target_names\n",
    "\n",
    "\n",
    "plt.figure()\n",
    "colors = ['red', 'green', 'blue']\n",
    "lw = 2\n",
    "for color, i, target_name in zip(colors, [0, 1, 2], target_names):\n",
    "    plt.scatter(data_plot[y == i, 0], data_plot[y == i, 1], alpha=.8, color=color,\n",
    "                label=target_name)\n",
    "\n",
    "plt.legend(loc='best', shadow=False, scatterpoints=1)\n",
    "plt.show()"
   ]
  },
  {
   "cell_type": "markdown",
   "id": "enhanced-economy",
   "metadata": {
    "papermill": {
     "duration": 0.012257,
     "end_time": "2021-06-14T11:35:02.428052",
     "exception": false,
     "start_time": "2021-06-14T11:35:02.415795",
     "status": "completed"
    },
    "tags": []
   },
   "source": [
    "We can clearly see that the three classes are seperated and can be distinguished easily."
   ]
  },
  {
   "cell_type": "markdown",
   "id": "textile-certification",
   "metadata": {
    "papermill": {
     "duration": 0.012255,
     "end_time": "2021-06-14T11:35:02.452805",
     "exception": false,
     "start_time": "2021-06-14T11:35:02.440550",
     "status": "completed"
    },
    "tags": []
   },
   "source": [
    "### Prediction\n",
    "We can also use the model to predict which class a new flower belongs to, based on input values"
   ]
  },
  {
   "cell_type": "code",
   "execution_count": 16,
   "id": "attractive-explosion",
   "metadata": {
    "execution": {
     "iopub.execute_input": "2021-06-14T11:35:02.484812Z",
     "iopub.status.busy": "2021-06-14T11:35:02.483917Z",
     "iopub.status.idle": "2021-06-14T11:35:02.487494Z",
     "shell.execute_reply": "2021-06-14T11:35:02.488077Z",
     "shell.execute_reply.started": "2021-06-14T11:28:10.981949Z"
    },
    "papermill": {
     "duration": 0.022854,
     "end_time": "2021-06-14T11:35:02.488255",
     "exception": false,
     "start_time": "2021-06-14T11:35:02.465401",
     "status": "completed"
    },
    "tags": []
   },
   "outputs": [
    {
     "data": {
      "text/plain": [
       "array([0])"
      ]
     },
     "execution_count": 16,
     "metadata": {},
     "output_type": "execute_result"
    }
   ],
   "source": [
    "# define new observation\n",
    "new = [5, 2, 1, .4]\n",
    "\n",
    "# predict which class the new observation belongs to\n",
    "model.predict([new])"
   ]
  },
  {
   "cell_type": "markdown",
   "id": "marine-turning",
   "metadata": {
    "papermill": {
     "duration": 0.012534,
     "end_time": "2021-06-14T11:35:02.513455",
     "exception": false,
     "start_time": "2021-06-14T11:35:02.500921",
     "status": "completed"
    },
    "tags": []
   },
   "source": [
    "The model predicts this new observation to belong to the species called setosa."
   ]
  }
 ],
 "metadata": {
  "kernelspec": {
   "display_name": "Python 3",
   "language": "python",
   "name": "python3"
  },
  "language_info": {
   "codemirror_mode": {
    "name": "ipython",
    "version": 3
   },
   "file_extension": ".py",
   "mimetype": "text/x-python",
   "name": "python",
   "nbconvert_exporter": "python",
   "pygments_lexer": "ipython3",
   "version": "3.11.4"
  },
  "papermill": {
   "default_parameters": {},
   "duration": 11.42745,
   "end_time": "2021-06-14T11:35:03.435767",
   "environment_variables": {},
   "exception": null,
   "input_path": "__notebook__.ipynb",
   "output_path": "__notebook__.ipynb",
   "parameters": {},
   "start_time": "2021-06-14T11:34:52.008317",
   "version": "2.3.2"
  }
 },
 "nbformat": 4,
 "nbformat_minor": 5
}
