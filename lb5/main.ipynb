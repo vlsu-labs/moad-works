{
 "cells": [
  {
   "cell_type": "code",
   "execution_count": 2,
   "metadata": {},
   "outputs": [],
   "source": [
    "import pandas as pd\n",
    "import numpy as np\n",
    "from matplotlib import pyplot"
   ]
  },
  {
   "cell_type": "markdown",
   "metadata": {},
   "source": [
    "## Load DATA"
   ]
  },
  {
   "cell_type": "code",
   "execution_count": null,
   "metadata": {},
   "outputs": [
    {
     "data": {
      "text/plain": [
       "index\n",
       "8226                 Current\n",
       "8227             Temperature\n",
       "8228                 Voltage\n",
       "8229       Accelerometer1RMS\n",
       "8230       Accelerometer2RMS\n",
       "                ...         \n",
       "59461      Accelerometer1RMS\n",
       "59462      Accelerometer2RMS\n",
       "59463    Volume Flow RateRMS\n",
       "59464               Pressure\n",
       "59465           Thermocouple\n",
       "Name: id, Length: 51240, dtype: object"
      ]
     },
     "execution_count": 6,
     "metadata": {},
     "output_type": "execute_result"
    }
   ],
   "source": [
    "PATH = 'data.csv'\n",
    "\n",
    "df = pd.read_csv(PATH, delimiter=';', index_col='index')\n",
    "id_vals = df['id'].unique()\n",
    "df"
   ]
  },
  {
   "cell_type": "code",
   "execution_count": 7,
   "metadata": {},
   "outputs": [
    {
     "name": "stdout",
     "output_type": "stream",
     "text": [
      "['Current' 'Temperature' 'Voltage' 'Accelerometer1RMS' 'Accelerometer2RMS'\n",
      " 'Volume Flow RateRMS' 'Pressure' 'Thermocouple']\n"
     ]
    }
   ],
   "source": []
  }
 ],
 "metadata": {
  "kernelspec": {
   "display_name": "moad-works-LfLR8WmN",
   "language": "python",
   "name": "python3"
  },
  "language_info": {
   "codemirror_mode": {
    "name": "ipython",
    "version": 3
   },
   "file_extension": ".py",
   "mimetype": "text/x-python",
   "name": "python",
   "nbconvert_exporter": "python",
   "pygments_lexer": "ipython3",
   "version": "3.11.8"
  }
 },
 "nbformat": 4,
 "nbformat_minor": 2
}
