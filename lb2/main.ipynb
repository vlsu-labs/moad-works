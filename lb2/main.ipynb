{
 "cells": [
  {
   "cell_type": "markdown",
   "metadata": {},
   "source": []
  },
  {
   "cell_type": "markdown",
   "metadata": {},
   "source": [
    "# Задание №1 (Вариант №2)\n",
    "\n",
    "Вероятность, что лотерейный билет окажется выигрышным, равна 0,1.\n",
    "Покупатель купил 5 билетов. Найти распределение числа выигрышей у владельца\n",
    "этих 5 билетов.\n",
    "\n",
    "# Решение\n",
    "Сгенерируем все возможные исходы распределение видов билетов (2^5) с расчётом вероятности получения каждой отдельной комбинации\n",
    "\n",
    "Затем сгрупиреум по колличеству выигрышных билетов складывая вероятности\n"
   ]
  },
  {
   "cell_type": "code",
   "execution_count": 3,
   "metadata": {},
   "outputs": [
    {
     "name": "stdout",
     "output_type": "stream",
     "text": [
      "Вероятность для 0 выиграшей среди 5 билетов составляет: 0.59049\n",
      "Вероятность для 1 выиграшей среди 5 билетов составляет: 0.32805\n",
      "Вероятность для 2 выиграшей среди 5 билетов составляет: 0.07290\n",
      "Вероятность для 3 выиграшей среди 5 билетов составляет: 0.00810\n",
      "Вероятность для 4 выиграшей среди 5 билетов составляет: 0.00045\n",
      "Вероятность для 5 выиграшей среди 5 билетов составляет: 0.00001\n",
      "1.0000000000000002\n"
     ]
    }
   ],
   "source": [
    "N = 5\n",
    "\n",
    "vars = [0, 1]\n",
    "propability = [0.9, 0.1]\n",
    "\n",
    "\n",
    "def generate_all_possible_variants(n: int):\n",
    "    if n == 0:\n",
    "        yield 1, []\n",
    "        return\n",
    "    \n",
    "    for index, var in enumerate(vars):\n",
    "        for posibility, variant in generate_all_possible_variants(n - 1):\n",
    "            var_posibility = posibility * propability[index]\n",
    "            new_variant = [var] + variant\n",
    "\n",
    "            yield var_posibility, new_variant\n",
    "\n",
    "\n",
    "ans = {}\n",
    "\n",
    "for posibility, variant in generate_all_possible_variants(N):\n",
    "    count = sum(variant)\n",
    "\n",
    "    if count not in ans:\n",
    "        ans[count] = 0\n",
    "\n",
    "    ans[count] += posibility\n",
    "\n",
    "check = 0\n",
    "for count, posibility in ans.items():\n",
    "    check += posibility\n",
    "    print(f\"Вероятность для {count} выиграшей среди {N} билетов составляет: {posibility:.5f}\")\n",
    "\n",
    "print(check)"
   ]
  }
 ],
 "metadata": {
  "kernelspec": {
   "display_name": "moad-works-LfLR8WmN",
   "language": "python",
   "name": "python3"
  },
  "language_info": {
   "codemirror_mode": {
    "name": "ipython",
    "version": 3
   },
   "file_extension": ".py",
   "mimetype": "text/x-python",
   "name": "python",
   "nbconvert_exporter": "python",
   "pygments_lexer": "ipython3",
   "version": "3.11.8"
  }
 },
 "nbformat": 4,
 "nbformat_minor": 2
}
