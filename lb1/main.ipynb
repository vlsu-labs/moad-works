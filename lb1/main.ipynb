{
 "cells": [
  {
   "cell_type": "markdown",
   "metadata": {},
   "source": [
    "Среди клиентов туристической фирмы 32% ездили в Турцию, 18% — в\n",
    "Египет, 10% — в Турцию и Египет. Найти вероятность того, что случайно\n",
    "выбранный клиент ездил в Турцию или Египет"
   ]
  },
  {
   "cell_type": "code",
   "execution_count": null,
   "metadata": {},
   "outputs": [],
   "source": []
  }
 ],
 "metadata": {
  "kernelspec": {
   "display_name": "moad-works-LfLR8WmN",
   "language": "python",
   "name": "python3"
  },
  "language_info": {
   "name": "python",
   "version": "3.11.8"
  }
 },
 "nbformat": 4,
 "nbformat_minor": 2
}
